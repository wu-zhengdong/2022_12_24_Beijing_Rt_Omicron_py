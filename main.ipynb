{
 "cells": [
  {
   "cell_type": "code",
   "execution_count": 1,
   "metadata": {},
   "outputs": [],
   "source": [
    "import numpy as np\n",
    "import pandas as pd\n",
    "#禁用科学计数法\n",
    "# np.set_printoptions(suppress=True,   precision=4,  threshold=2000,  linewidth=150)\n",
    "# pd.set_option('display.float_format',lambda x : '%.2f' % x)"
   ]
  },
  {
   "cell_type": "code",
   "execution_count": 2,
   "metadata": {},
   "outputs": [],
   "source": [
    "def polymodContactMatrix(ageGroupDefRange, socialContactOneyear, ageDistributionOneyear, totalPopulation):\n",
    "    '''\n",
    "    % Input parameters\n",
    "    % 1. Contact matrix 1-year interval\n",
    "    % 2. Population age distribution of that specific country\n",
    "    % 3. Total population of that specific country\n",
    "\n",
    "    % 1. Reformat contact matrix description array\n",
    "    % start year - end year - interval in between\n",
    "    '''\n",
    "    # ageGroupDefRange = [-1, 19, 59, 84]\n",
    "    # 将年龄层分段\n",
    "    descriptionArray = np.zeros((len(ageGroupDefRange) - 1, 3))\n",
    "    for ii in range(len(ageGroupDefRange) - 1):\n",
    "        descriptionArray[ii, :] = [ii + 1, max(ageGroupDefRange[ii] + 1, 0), ageGroupDefRange[ii + 1] - max(ageGroupDefRange[ii] + 1, 0)]\n",
    "    \n",
    "    '''\n",
    "    Shape : (3, 3)\n",
    "    1  0 19\n",
    "    2 20 39\n",
    "    3 60 24\n",
    "    '''\n",
    "    descriptionArray = descriptionArray.astype(int)\n",
    "    '''\n",
    "    % 2. Output matrix\n",
    "    '''\n",
    "    # (3, 3)\n",
    "    outputContactMatrix = np.zeros((max(descriptionArray[:, 0]), max(descriptionArray[:, 0])))\n",
    "    for ii in range(max(descriptionArray[:, 0])):\n",
    "        for jj in range(max(descriptionArray[:, 0])):\n",
    "            sumContact = 0\n",
    "            '''\n",
    "            划分成3个年龄组\n",
    "            0-20\n",
    "            20-60\n",
    "            60-85\n",
    "            '''\n",
    "            workingMatrix = socialContactOneyear.values[descriptionArray[ii, 1]:(descriptionArray[ii, 1] + descriptionArray[ii, 2] + 1),\n",
    "                           descriptionArray[jj, 1]:(descriptionArray[jj, 1] + descriptionArray[jj, 2]) + 1]\n",
    "            # (20, ), (40,) (25, )\n",
    "            sumColumnMatrix = np.zeros(descriptionArray[jj, 2] + 1)\n",
    "            # 计算这一小撮人的总和（行），所以sumColumnMatrix's shape ==> (20, ) (40, ) (25, )\n",
    "            for kk in range(descriptionArray[jj, 2] + 1):\n",
    "                sumColumnMatrix[kk] = np.sum(workingMatrix[:, kk])\n",
    "            # 这一小撮人的比例总和，1~20岁，20～60岁，60～85岁\n",
    "            sumAgeDistributionOneyear = np.sum(ageDistributionOneyear[descriptionArray[jj, 1]:(descriptionArray[jj, 1] + descriptionArray[jj, 2] + 1)])\n",
    "            \n",
    "            # 将 contactMatrix 和 年龄层比例相乘 （每个相乘），然后汇总，最后\n",
    "            for mm in range(descriptionArray[jj, 2] + 1):\n",
    "                sumContact += sumColumnMatrix[mm] * ageDistributionOneyear[descriptionArray[jj, 1] + mm]\n",
    "                outputContactMatrix[ii, jj] = sumContact / sumAgeDistributionOneyear\n",
    "\n",
    "    '''\n",
    "    % 5. Adjusted contact matrix, symmetric\n",
    "    '''\n",
    "    AgeDistribution = np.zeros(max(descriptionArray[:, 0])) # (3, )\n",
    "    for ii in range(max(descriptionArray[:, 0])): # 年龄层比例加和, 1~20, 20~60, 60~85\n",
    "        AgeDistribution[ii] = np.sum(ageDistributionOneyear[descriptionArray[ii, 1]:(descriptionArray[ii, 1] + descriptionArray[ii, 2] + 1)])\n",
    "    AgeDisPopulation = AgeDistribution * totalPopulation # 三个年龄层的人口数\n",
    "\n",
    "    # outputContactMatrix (3, 3) 行竖* 对应的AgeDisPopulation(比例) / 2\n",
    "    adOutputContactMatrix = np.zeros((max(descriptionArray[:, 0]), max(descriptionArray[:, 0]))) # (3, 3)\n",
    "    for ii in range(max(descriptionArray[:, 0])):\n",
    "        for jj in range(max(descriptionArray[:, 0])):\n",
    "            adOutputContactMatrix[ii, jj] = 0.5 * (outputContactMatrix[ii, jj] / AgeDisPopulation[ii] + outputContactMatrix[jj, ii] / AgeDisPopulation[jj])\n",
    "    return adOutputContactMatrix, AgeDistribution\n"
   ]
  },
  {
   "cell_type": "code",
   "execution_count": 3,
   "metadata": {},
   "outputs": [],
   "source": [
    "from datetime import datetime\n",
    "\n",
    "# 0. Date\n",
    "dateZero = datetime.strptime('2022/10/31', '%Y/%m/%d')\n",
    "dateChange = (datetime.strptime('2022/11/18', '%Y/%m/%d') - dateZero).days\n",
    "dateEnd = (datetime.strptime('2022/12/22', '%Y/%m/%d') - dateZero).days\n",
    "\n",
    "# 1. Contact pattern\n",
    "# Define age groups\n",
    "dataDir = './data/'\n",
    "countryText = 'China_subnational_Beijing'\n",
    "totalPopulation = 21893095\n",
    "ageGroupDefRange = [-1, 19, 59, 84]"
   ]
  },
  {
   "cell_type": "code",
   "execution_count": 4,
   "metadata": {},
   "outputs": [],
   "source": [
    "import pandas as pd\n",
    "import numpy as np\n",
    "\n",
    "# Age distribution\n",
    "ageDistrTemp = pd.read_csv(dataDir + 'age_distributions/' + countryText + '_age_distribution_85.csv', header=None)\n",
    "ageDistributionOneyear = ageDistrTemp[1].values / np.sum(ageDistrTemp[1].values) # proportion\n",
    "totalPop = totalPopulation"
   ]
  },
  {
   "cell_type": "code",
   "execution_count": 5,
   "metadata": {},
   "outputs": [
    {
     "data": {
      "text/plain": [
       "<BarContainer object of 85 artists>"
      ]
     },
     "execution_count": 5,
     "metadata": {},
     "output_type": "execute_result"
    },
    {
     "data": {
      "image/png": "[encoded data removed]",
      "text/plain": [
       "<Figure size 640x480 with 1 Axes>"
      ]
     },
     "metadata": {},
     "output_type": "display_data"
    }
   ],
   "source": [
    "import matplotlib.pylab as plt\n",
    "%matplotlib inline\n",
    "\n",
    "plt.bar(range(len(ageDistributionOneyear)), ageDistributionOneyear)"
   ]
  },
  {
   "cell_type": "code",
   "execution_count": 6,
   "metadata": {},
   "outputs": [
    {
     "name": "stdout",
     "output_type": "stream",
     "text": [
      "(85, 85)\n"
     ]
    }
   ],
   "source": [
    "# Contact matrix by setting\n",
    "overallMatr = pd.read_csv(dataDir + 'contact_matrices/' + countryText + '_M_overall_contact_matrix_85.csv', header=None)\n",
    "print(overallMatr.shape)\n",
    "overallMatr,ageDistribution = polymodContactMatrix(ageGroupDefRange,overallMatr,ageDistributionOneyear,totalPop)\n",
    "\n",
    "contactMatr = overallMatr\n",
    "totalPopulation = totalPop*ageDistribution # 分层的人口\n",
    "totalPopulationAgeBand = totalPopulation # 分层的人口"
   ]
  },
  {
   "cell_type": "code",
   "execution_count": 7,
   "metadata": {},
   "outputs": [
    {
     "data": {
      "text/plain": [
       "array([ 3256881.48296989, 15940142.88058065,  2696070.63644947])"
      ]
     },
     "execution_count": 7,
     "metadata": {},
     "output_type": "execute_result"
    }
   ],
   "source": [
    "totalPopulationAgeBand"
   ]
  },
  {
   "cell_type": "code",
   "execution_count": 8,
   "metadata": {},
   "outputs": [],
   "source": [
    "# % 2. Load Beijing MTR data\n",
    "bjMTRdata = pd.read_excel('./data/2022_12_22_subway_beijing.xlsx')\n",
    "# % Moving average\n",
    "bjMTRdata.date = (bjMTRdata['date'] - dateZero).dt.days\n",
    "bjMTRdata.total = bjMTRdata['total'].rolling(5, min_periods=3, center=True).mean() # mean(sum(frist five values))"
   ]
  },
  {
   "cell_type": "code",
   "execution_count": 9,
   "metadata": {},
   "outputs": [],
   "source": [
    "# 计算 cutoffDate 的值\n",
    "cutoffDate = pd.to_datetime('2022/11/30', format='%Y/%m/%d') - dateZero # 2022/10/31\n",
    "cutoffDate = cutoffDate.days # 30\n",
    "\n",
    "localCase = pd.read_excel(\"./data/2022_12_13_reported_case_beijing.xlsx\")\n",
    "# 计算日期列相对于 dateZero 的差值\n",
    "localCase['date'] = (localCase['date'] - dateZero).dt.days\n",
    "# 选取 date 小于等于 cutoffDate 的行，\n",
    "# 即：2022/11/1 ~ 2022/11/30 的数据\n",
    "localCase = localCase[localCase['date'] <= cutoffDate]\n",
    "# 每日新增确诊人数\n",
    "localCase['num_local_case'] = localCase['num_new_confirmed_case_local']\n",
    "# localCase.rename(columns={'num_new_confirmed_case_local': 'num_local_case'}, inplace=True)"
   ]
  },
  {
   "cell_type": "code",
   "execution_count": 10,
   "metadata": {},
   "outputs": [],
   "source": [
    "# 使用左连接合并两个表格\n",
    "# total: 每天总的地铁流量\n",
    "# num_local_case: 每日新增确诊人数\n",
    "dataBeijing = pd.merge(bjMTRdata[['date', 'total']], localCase[['date', 'num_local_case']], on='date', how='left')"
   ]
  },
  {
   "cell_type": "code",
   "execution_count": 11,
   "metadata": {},
   "outputs": [],
   "source": [
    "# % 4. Load Beijing prevalence data\n",
    "# 微博投票数据\n",
    "# 2022/12/10 ~ 2022/12/22\n",
    "prevData = pd.read_excel(\"./data/2022_12_22_prevalence_beijing.xlsx\")\n",
    "prevData.date = (prevData['date'] - dateZero).dt.days"
   ]
  },
  {
   "cell_type": "code",
   "execution_count": 12,
   "metadata": {},
   "outputs": [],
   "source": [
    "# % 5. Load serial interval data\n",
    "genTimeData = pd.read_csv('./data/si_data_20200508.csv')\n",
    "# 选取第 3 列和第 4 列\n",
    "genTimeData = genTimeData.iloc[:, 2:4].values"
   ]
  },
  {
   "cell_type": "code",
   "execution_count": 13,
   "metadata": {},
   "outputs": [],
   "source": [
    "# % Model parameters\n",
    "scaleRt = [0.03,0.07]\n",
    "genTime = 4.6\n",
    "seedSize = 100\n",
    "propReport = 0.1\n",
    "propAscertain = 0.8\n",
    "\n",
    "# % Fixed child\n",
    "childSuscept = 1\n",
    "\n",
    "# % Fixed parameters\n",
    "tStart = 1\n",
    "tEnd = dateEnd # 2022/12/22\n",
    "\n",
    "# incubation period\n",
    "meanIncubation = 3.5\n",
    "stdIncubation = 3.9 / 5.2 * meanIncubation"
   ]
  },
  {
   "cell_type": "code",
   "execution_count": 14,
   "metadata": {},
   "outputs": [],
   "source": [
    "shapeIncu = (stdIncubation * stdIncubation) / meanIncubation\n",
    "scaleIncu = meanIncubation / shapeIncu\n",
    "numDays = tEnd - tStart"
   ]
  },
  {
   "attachments": {},
   "cell_type": "markdown",
   "metadata": {},
   "source": [
    "Matlab中的gamcdf和python的cdf计算公式不一样，重写一个\n",
    "\n",
    "\\begin{equation}\n",
    "p=F(x \\mid a, b)=\\frac{1}{b^a \\Gamma(a)} \\int_0^x t^{a-1} e^{\\frac{-t}{b}} d t .\n",
    "\\end{equation}"
   ]
  },
  {
   "cell_type": "code",
   "execution_count": 15,
   "metadata": {},
   "outputs": [],
   "source": [
    "from scipy.integrate import quad # 积分公式\n",
    "\n",
    "def f(t, a, b):\n",
    "    return t ** (a - 1) * np.exp(-t / b)\n",
    "\n",
    "def gamma_cdf_m(x, a, b):\n",
    "    result, error = quad(f, 0, x, args=(a, b))\n",
    "    return result / (b ** a * np.math.gamma(a))\n",
    "\n",
    "def gamma_cdf_m_array(x_array, a, b):\n",
    "    results = []\n",
    "    for x in x_array:\n",
    "        results.append(gamma_cdf_m(x, a, b))\n",
    "    return np.array(results)"
   ]
  },
  {
   "cell_type": "code",
   "execution_count": 16,
   "metadata": {},
   "outputs": [],
   "source": [
    "from scipy.stats import gamma\n",
    "\n",
    "# 潜伏期的概率密度函数\n",
    "# 为什么要相减？ np.arange(2, numDays+2) - np.arange(1, numDays+1)\n",
    "# 取前20的意义是？\n",
    "pdfIncubation = gamma_cdf_m_array(np.arange(2, numDays+2), shapeIncu, scaleIncu) - gamma_cdf_m_array(np.arange(1, numDays+1), shapeIncu, scaleIncu)\n",
    "pdfIncubation = pdfIncubation[:20]"
   ]
  },
  {
   "cell_type": "code",
   "execution_count": 17,
   "metadata": {},
   "outputs": [],
   "source": [
    "# 潜伏期的累积分布函数\n",
    "cdfIncubation = np.cumsum(pdfIncubation)\n",
    "cdfIncubation[-1] = 1"
   ]
  },
  {
   "cell_type": "code",
   "execution_count": 18,
   "metadata": {},
   "outputs": [],
   "source": [
    "totalPopulation = totalPopulationAgeBand\n",
    "numEstate = 1\n",
    "numIstate = 4\n",
    "numRstate = 4\n",
    "durExposed = 1\n",
    "dt = 0.1"
   ]
  },
  {
   "attachments": {},
   "cell_type": "markdown",
   "metadata": {},
   "source": [
    "Infectious states\n",
    "$$k = 4$$\n",
    "$$\\frac{dI_{a, 1}(t)}{dt} = -\\gamma_I I_{a, 1}(t) + \\gamma_E E_a(t)$$\n",
    "$$\\frac{dI_{a, 2}(t)}{dt} = -\\gamma_I I_{a, 2}(t) + \\gamma_I I_{a, 1}(t)$$\n",
    "$$\\frac{dI_{a, k}(t)}{dt} = -\\gamma_I I_{a, k}(t) + \\gamma_I I_{a, k-1}(t)$$"
   ]
  },
  {
   "attachments": {
    "image.png": {
     "image/png": "[encoded data removed]"
    }
   },
   "cell_type": "markdown",
   "metadata": {},
   "source": [
    "In matlab **sum** function:\n",
    "- sum(A, 2): Create a matrix and compute the sum of the elements in each column. (ROW)\n",
    "- sum(A, 1): vertical\n",
    "\n",
    "In python:\n",
    "- matrix.sum(axis=1): # of the elements in each column (ROW)\n",
    "- matrix.sum(axis=0): vertical\n",
    "\n",
    "python sketch map:\n",
    "![image.png](attachment:image.png)"
   ]
  },
  {
   "cell_type": "code",
   "execution_count": 19,
   "metadata": {},
   "outputs": [],
   "source": [
    "import math\n",
    "from numpy import linalg as LA\n",
    "\n",
    "\n",
    "# SEIR model\n",
    "\n",
    "def SEIR_memory(scaleRt,contactMatrHome,childSuscept,genTime,seedSize,\n",
    "                totalPopulation,durExposed,dataMTR,\n",
    "                numEstate,numIstate,dt,tStart,tEnd,dateChange):\n",
    "    \n",
    "    '''\n",
    "    dataMTR: dataMTR[total] / dataMTR[date==1].total, 除以第一天的地铁流量\n",
    "    dt: 0.1\n",
    "    '''\n",
    "    \n",
    "    maxTime = (tEnd-tStart)+1 # 52天\n",
    "    # % SEIR model from Wu et al, PLOS Pathogens\n",
    "    # 3 groups\n",
    "    numAgeGroup = len(totalPopulation)\n",
    "\n",
    "    # % Intermediate variables\n",
    "    dSdt = np.zeros(numAgeGroup) # (3, )\n",
    "    dEdt = np.zeros((numEstate,numAgeGroup)) # (4, 3)\n",
    "    dIdt = np.zeros((numIstate,numAgeGroup)) # (1, 3)\n",
    "\n",
    "    dymRt = np.array([None] * (int(maxTime/dt) - 1)) # shape = (519, )\n",
    "    # % Record variables\n",
    "    incidence = np.zeros((int(maxTime/dt),numAgeGroup)) # shape = (520, 3)\n",
    "    # % Duration of sub-E and sub-I states\n",
    "    subEduration = durExposed/numEstate # 1/1\n",
    "    durInfectious = 2*(genTime-durExposed)*numIstate/(numIstate+1)\n",
    "    subIduration = durInfectious/numIstate\n",
    "\n",
    "    # % Contact matrix\n",
    "    # contactMatr = np.empty((1,maxTime))\n",
    "    contactMatr = [None] * maxTime\n",
    "    iiMobility = np.zeros((maxTime,1))\n",
    "    ngmBeta = np.zeros((maxTime,1))\n",
    "    for iiMatr in range(maxTime):\n",
    "        if iiMatr <= len(dataMTR):\n",
    "            iiMobility[iiMatr,:] = np.tile(dataMTR[iiMatr], (1,1))\n",
    "        else:\n",
    "            iiMobility[iiMatr,:] = np.tile(np.mean(dataMTR[-7:]), (1,1))\n",
    "\n",
    "    iiMobility = pd.DataFrame(iiMobility).rolling(5, min_periods=3, center=True).mean().values\n",
    "    # contactMatrOct = np.empty((maxTime,1))\n",
    "    contactMatrOct = [None] * maxTime\n",
    "\n",
    "    for iiMatr in range(maxTime):\n",
    "        iiMatr_index = iiMatr + 1\n",
    "        if iiMatr_index <= dateChange-7:\n",
    "            contactMatrOct[iiMatr] = (1-np.exp(-iiMobility[iiMatr, 0]))*scaleRt[0]*contactMatrHome\n",
    "        else:\n",
    "            if iiMatr_index > dateChange-7 and iiMatr_index <= dateChange+7:\n",
    "                iiScale = scaleRt[0] + (scaleRt[1] - scaleRt[0]) / 14 * (iiMatr_index-dateChange+7)\n",
    "                contactMatrOct[iiMatr] = (1-np.exp(-iiMobility[iiMatr,0]))*iiScale*contactMatrHome\n",
    "            else:\n",
    "                contactMatrOct[iiMatr] = (1-np.exp(-iiMobility[iiMatr,0]))*scaleRt[1]*contactMatrHome\n",
    "        contactMatr[iiMatr] = contactMatrOct[iiMatr] * np.array([\n",
    "            [childSuscept, 1, 1],\n",
    "            [childSuscept, 1, 1],\n",
    "            [childSuscept, 1, 1]\n",
    "        ])\n",
    "        # python可以直接提取出ngmEig，不用计算ngmDig\n",
    "        # [~,ngmDig] = eig(contactMatr{iiMatr}.*repmat(totalPopulation',1,numAgeGroup)*genTime); \n",
    "        # ngmEig = ngmDig((1:numAgeGroup)+numAgeGroup*(0:(numAgeGroup-1)));\n",
    "\n",
    "        ngmEig = LA.eig(contactMatr[iiMatr] * totalPopulation.reshape(numAgeGroup, 1) * genTime)[0]\n",
    "        ngmBeta[iiMatr, 0] = max(ngmEig)\n",
    "        # % contactMatr{iiMatr} = contactMatr{iiMatr}\n",
    "        # % recRt(iiMatr,1) = ngmBeta(iiMatr,1)*max(ngmEig);\n",
    "\n",
    "    # % Initial conditions\n",
    "    # % 1. State S\n",
    "    stateS = totalPopulation - seedSize/sum(totalPopulation)*totalPopulation\n",
    "    # % 2. State E\n",
    "    stateE = np.tile(seedSize/numEstate/sum(totalPopulation)*totalPopulation, (numEstate,1))\n",
    "    # % 3. State I\n",
    "    stateI = np.zeros((numIstate,numAgeGroup))\n",
    "\n",
    "    for tt in range(int(maxTime/dt) - 1):\n",
    "        tday = tt * dt\n",
    "        # ceil: Round toward positive infinity, 正向无穷大四舍五入\n",
    "        # 但是在python中，index从0开始，所以要反过来，所以要用floor\n",
    "        contactMatrWork = contactMatr[math.floor(tday)] # length of contaqctMatr is 52\n",
    "        for ii in range(numAgeGroup):\n",
    "            dSdt[ii] = -stateS[ii] * ngmBeta[math.floor(tday), 0] * np.sum(contactMatrWork[ii,:] * stateI.sum(axis=0))\n",
    "\n",
    "        # % Exposed states\n",
    "        for ii in range(numEstate):\n",
    "            if ii == 0:\n",
    "                dEdt[ii, :] = -dSdt.reshape(3, 1).sum(axis=1) - stateE[0,:] / subEduration\n",
    "            else:\n",
    "                dEdt[ii, :] = stateE[ii-1,:] / subEduration - stateE[ii, :] / subEduration\n",
    "        # % Infectious states\n",
    "        '''\n",
    "        $$k = 4$$\n",
    "        $$\\frac{dI_{a, 1}(t)}{dt} = -\\gamma_I I_{a, 1}(t) + \\gamma_E E_a(t)$$\n",
    "        $$\\frac{dI_{a, 2}(t)}{dt} = -\\gamma_I I_{a, 2}(t) + \\gamma_I I_{a, 1}(t)$$\n",
    "        $$\\frac{dI_{a, k}(t)}{dt} = -\\gamma_I I_{a, k}(t) + \\gamma_I I_{a, k-1}(t)$$\n",
    "        '''\n",
    "        for ii in range(numIstate):\n",
    "            if ii == 0:\n",
    "                # stateE[-1, :] : arrary (1, 3) to vector (3, )\n",
    "                dIdt[ii, :] = stateE[-1, :] / subEduration - stateI[ii, :] / subIduration\n",
    "            else:\n",
    "                dIdt[ii, :] = stateI[ii-1, :] / subIduration - stateI[ii, :] / subIduration\n",
    "\n",
    "        # % Update state variables\n",
    "        stateS = stateS + dSdt*dt\n",
    "        stateE = stateE + dEdt*dt\n",
    "        stateI = stateI + dIdt*dt\n",
    "        # % Update incidence record\n",
    "        incidence[tt,:] = -np.sum(dSdt.reshape(3, 1),1)*dt\n",
    "        # sum(A, 2) 行 (matlab) -> python axis=1\n",
    "        # incidence[tt,:].reshape(1, -1) ==> (1, 3) ==> sum() ==> one element\n",
    "        dymRt[tt] = (incidence[tt,:].reshape(1, -1).sum(axis=1) / stateI.sum() * genTime / dt)[0]\n",
    "\n",
    "    # py: start, stop, step;\n",
    "    # m: start, step, stop\n",
    "    dymRtDaily = dymRt[np.arange(int(1/dt/2), len(dymRt), int(1 / dt))]\n",
    "\n",
    "    dailyInc = np.zeros((maxTime))\n",
    "    for tt in range(maxTime):\n",
    "        dailyInc[tt] = incidence[[int(tt/dt+i) for i in  range(int(1/dt))],:].sum()\n",
    "\n",
    "    out = np.column_stack((np.array(range(tStart, tEnd+1)), dailyInc, np.cumsum(dailyInc)))\n",
    "    \n",
    "    return out, dymRtDaily"
   ]
  },
  {
   "attachments": {},
   "cell_type": "markdown",
   "metadata": {},
   "source": [
    "gamma pdf in matlab:\n",
    "\n",
    "- The gamma distribution is a two-parameter family of curves. The parameters *a* and *b* are shape and scale, respectively.  \n",
    "- The gamma pdf is\n",
    "\n",
    "  \\begin{equation}\n",
    "  y=f(x \\mid a, b)=\\frac{1}{b^a \\Gamma(a)} x^{a-1} e^{\\frac{-x}{b}}\n",
    "  \\end{equation}\n",
    "    \n",
    "- where $\\Gamma(·)$ is the Gamma function.  \n",
    "- The standard gamma distribution occurs when *b* = 1.  "
   ]
  },
  {
   "cell_type": "markdown",
   "metadata": {},
   "source": [
    "Binomial probability density function\n",
    "\n",
    "\\begin{equation}\n",
    "y=f(x \\mid n, p)=\\left(\\begin{array}{l}\n",
    "n \\\\\n",
    "x\\end{array}\\right) p^x q^{(n-x)} I_{(0,1, \\ldots, n)}(x)\n",
    "\\end{equation}\n",
    "\n",
    "\n",
    "binopdf (m):\n",
    "\n",
    "$$ y=f(x \\mid n, p)=\\left(\\begin{array}{l}\n",
    "n \\\\\n",
    "x\n",
    "\\end{array}\\right) p^x q^{(n-x)} I_{(0,1, \\ldots, n)}(x) $$\n",
    "\n",
    "where $q = 1 – p$. The resulting value $y$ is the probability of observing exactly $x$ successes in $n$ independent trials, where the probability of success in any given trial is $p$. The indicator function $I_{(0,1, \\ldots, n)}(x)$ ensures that $x$ only adopts values of $0, 1, ..., n$."
   ]
  },
  {
   "cell_type": "code",
   "execution_count": 20,
   "metadata": {},
   "outputs": [],
   "source": [
    "def gamma_pdf_m(x, a, b):\n",
    "    return (1 / (b ** a * np.math.gamma(a))) * np.power(x, a - 1) * np.exp(-x / b)\n",
    "# method 2:\n",
    "# $$y = \\frac{b^a \\times x^{(a-1)} \\times e^{-bx}}{\\gamma(a)}$$\n",
    "# same fucntion\n",
    "# def py_pdf(x, a, b):\n",
    "#     y = ((b**a) * (x**(a-1)) * np.exp(-b*x)) / np.math.gamma(a)\n",
    "#     return y\n",
    "# py_pdf(5, 4, 1/1.15)\n",
    "\n",
    "from scipy.stats import binom\n",
    "\n",
    "# 自己写:\n",
    "# from scipy.special import comb\n",
    "# def binopdf(x, n, p):\n",
    "#     q = 1 - p\n",
    "#     y = comb(n, x) * p**x * q**(n-x)\n",
    "#     y = np.where((x >= 0) & (x <= n), y, 0)\n",
    "#     return y\n",
    "\n",
    "\n",
    "def totalLogLikelihood(dataBeijing,genTimeData,prevData,\n",
    "                       scaleRt,genTime,seedSize,propReport,propAscertain,\n",
    "                       contactMatr,childSuscept,totalPopulation,durExposed,\n",
    "                       numEstate,numIstate,dt,tStartArr,tEndArr,dateChange,pdfIncubation):\n",
    "    '''\n",
    "    dataBeijing: 11/1-11/30，地铁流量，感染人数\n",
    "    genTimeData: SI的数据 (-1, 2)\n",
    "    prevData: 微博投票数据（2022/12/10-12/22)，参与人数，感染，未感染人数\n",
    "    scaleRt: Rt范围 [0.03,0.07]\n",
    "    genTime: 4.6\n",
    "    seedSize: 100\n",
    "    propReport: 0.1\n",
    "    propAscertain: 0.8,\n",
    "    contactMatr: (3, 3), 通过polymodContactMatrix计算后的接触矩阵，原始接触矩阵与人口比例之间的计算得到（见ipad）\n",
    "    childSuscept: 1,\n",
    "    totalPopulation: 分层3个年龄层的具体人口数\n",
    "    durExposed: 持续暴露 1\n",
    "    numEstate: 暴露状态 1\n",
    "    numIstate: 感染状态 infectious states 4\n",
    "    dt: 0.1\n",
    "    tStartArr: 1 （2022/11/01）开始时间\n",
    "    tEndArr: 52 （2022/12/22）结束时间\n",
    "    dateChange: 18 （2022/11/18）\n",
    "    pdfIncubation: 潜伏期的概率密度函数\n",
    "    '''\n",
    "    if type(tStartArr) != np.ndarray:\n",
    "        tStartArr = np.array([tStartArr])\n",
    "        tEndArr = np.array([tEndArr])\n",
    "    \n",
    "    # % 1. Log likelihood of generation time distribution\n",
    "    exactGenTimeLogL = np.sum(np.log(gamma_pdf_m(genTimeData[genTimeData[:, 0] == genTimeData[:, 1], 1], numIstate, genTime/numIstate)))\n",
    "    g_cdf_1 = gamma_cdf_m_array(genTimeData[genTimeData[:, 0] != genTimeData[:, 1], 1], numIstate, genTime/numIstate)\n",
    "    g_cdf_2 = gamma_cdf_m_array(genTimeData[genTimeData[:, 0] != genTimeData[:, 1], 0], numIstate, genTime/numIstate)\n",
    "    intervalGenTimeLogL = np.sum(np.log(g_cdf_1 - g_cdf_2))\n",
    "\n",
    "    for iiWave in range(len(tStartArr)):\n",
    "        tStart = tStartArr[iiWave]\n",
    "        tEnd = tEndArr[iiWave]\n",
    "        dailyRec, _ = SEIR_memory(scaleRt, contactMatr,childSuscept,genTime,seedSize,totalPopulation,durExposed,\n",
    "                                dataBeijing['total'].values / dataBeijing.total[dataBeijing.date==1].values,\n",
    "                                numEstate,numIstate,dt,tStart,tEnd,dateChange)\n",
    "        \n",
    "        dailyInc = dailyRec[:,[0, 1]]\n",
    "        dailyCumInc = dailyRec[:,[0,2]]\n",
    "\n",
    "        # % convolution\n",
    "        dailyOnset = np.zeros((len(dailyInc)+len(pdfIncubation)-1, len(dailyInc[0,:])-1))\n",
    "\n",
    "        for iiDay in range(len(dailyInc[:, 0])):\n",
    "            for iiAge in range(len(dailyInc[0, :]) - 1):\n",
    "                # 0: 0+20: (iiDay, iiDay+20)\n",
    "                dailyOnset[iiDay:(iiDay+len(pdfIncubation)), iiAge] = dailyOnset[iiDay:(iiDay+len(pdfIncubation)),iiAge] + dailyInc[iiDay,iiAge+1]*pdfIncubation\n",
    "\n",
    "        # % Incidence: Poisson likelihood\n",
    "        obsOnset = dailyOnset.sum(axis=1) # (71, 1) -> (71, ) ROW\n",
    "        # dailyInc[0, 0] == 1，奇怪操作，直接 range(len(obsOnset))就可以了\n",
    "        obsOnset_index = [int(dailyInc[0, 0]-1 + o) for o in range(len(obsOnset))]\n",
    "        obsOnset = np.column_stack((obsOnset_index, obsOnset))\n",
    "        obsOnset = obsOnset[tStart-1:tEnd, :]\n",
    "        # shape 52 -> 30, ismember (m) -> np.in1d (py)\n",
    "        obsOnset = obsOnset[np.in1d(obsOnset[:, 0]+1, dataBeijing['date'].values[~np.isnan(dataBeijing['num_local_case'].values)]), :]\n",
    "        onsetData = np.column_stack((dataBeijing['num_local_case'].values[np.in1d(dataBeijing['date'].values, obsOnset[:,0] + 1)], obsOnset[:, 1]))\n",
    "        onsetData = onsetData[np.arange(4, (dateChange - 7)), :]\n",
    "        \n",
    "        def LogL(k, n, p):\n",
    "            y = binom.pmf(k, n, p)\n",
    "            if y == 0:\n",
    "                return -np.inf\n",
    "            else:\n",
    "                return np.log(y)\n",
    "        \n",
    "        onsetLogL = []\n",
    "        for k, n in zip(onsetData[:, 0].astype(int), np.around(onsetData[:, 1]).astype(int)):\n",
    "            onsetLogL.append(LogL(k, n, propReport))\n",
    "        onsetLogL = np.sum(onsetLogL)\n",
    "        # onsetLogL = np.sum(np.log(binom.pmf(k=onsetData[:, 0].astype(int), n=np.around(onsetData[:, 1]).astype(int), p=propReport)))\n",
    "\n",
    "        # % Prevalence: Binomial likelihood\n",
    "        pSens = propAscertain\n",
    "        prevaData = np.column_stack((prevData['no_ever_positive'].values, prevData['no_participants'].values, pSens * np.array([dailyCumInc[d-1, 1] for d in prevData['date'].values]) / np.sum(totalPopulation)))\n",
    "        \n",
    "        prevalenceLogL = []\n",
    "        for k, n, p in zip(prevData['no_ever_positive'].values, prevData['no_participants'].values, (pSens * np.array([dailyCumInc[d-1, 1] for d in prevData['date'].values]) / np.sum(totalPopulation))):\n",
    "            prevalenceLogL.append(LogL(k, n, p))\n",
    "        prevalenceLogL = np.array(prevalenceLogL)\n",
    "        # prevalenceLogL = np.log(binom.pmf(k=prevData['no_ever_positive'].values, n=prevData['no_participants'].values, p=(pSens * np.array([dailyCumInc[d-1, 1] for d in prevData['date'].values]) / np.sum(totalPopulation))))\n",
    "    \n",
    "    onsetLogL = -1e9 if onsetLogL == -np.inf else onsetLogL\n",
    "    prevalenceLogL = [-1e9 if pLogl == -np.inf else pLogl for pLogl in prevalenceLogL]\n",
    "\n",
    "    # print(onsetLogL)\n",
    "    # print(prevalenceLogL)\n",
    "    \n",
    "    totalLogL = exactGenTimeLogL + intervalGenTimeLogL + np.sum(np.sum(onsetLogL)) + np.sum(np.sum(prevalenceLogL))\n",
    "    \n",
    "    return totalLogL"
   ]
  },
  {
   "cell_type": "code",
   "execution_count": 21,
   "metadata": {},
   "outputs": [],
   "source": [
    "totalLogL = totalLogLikelihood(dataBeijing,genTimeData,prevData,scaleRt,genTime,seedSize,propReport,\n",
    "                                propAscertain,contactMatr,childSuscept,totalPopulation,durExposed,numEstate,\n",
    "                                numIstate,dt,tStart,tEnd,dateChange,pdfIncubation)\n"
   ]
  },
  {
   "cell_type": "code",
   "execution_count": null,
   "metadata": {},
   "outputs": [],
   "source": [
    "# test Likelihood function\n",
    "x0 = list(scaleRt) # scaleRt (2, )\n",
    "x0.extend([genTime,seedSize,propReport,propAscertain])\n",
    "x0 = np.array(x0)\n",
    "x0LowerBound = np.array([0.001,0.001,genTime,0,0,0])\n",
    "x0UpperBound = np.array([1.100,1.100,genTime,3000,1,1])"
   ]
  },
  {
   "cell_type": "code",
   "execution_count": null,
   "metadata": {},
   "outputs": [],
   "source": [
    "def negTotalLogLikelihood(x0,dataBeijing,genTimeData,prevData,contactMatr,childSuscept,totalPopulation,durExposed,\n",
    "                            numEstate,numIstate,dt,tStart,tEnd,dateChange,pdfIncubation):\n",
    "\n",
    "    scaleRt = x0[:2]\n",
    "    genTime = x0[2]\n",
    "    seedSize = x0[3]\n",
    "    propReport = x0[4]\n",
    "    propAscertain = x0[5]\n",
    "\n",
    "    totalLogL = totalLogLikelihood(dataBeijing,genTimeData,prevData,scaleRt,genTime,seedSize,propReport,\n",
    "                                    propAscertain,contactMatr,childSuscept,totalPopulation,durExposed,\n",
    "                                    numEstate,numIstate,dt,tStart,tEnd,dateChange,pdfIncubation)\n",
    "\n",
    "    out = -totalLogL\n",
    "    return out"
   ]
  },
  {
   "cell_type": "code",
   "execution_count": null,
   "metadata": {},
   "outputs": [],
   "source": [
    "# % Point estmates from fmincon\n",
    "# 创建一个匿名函数，只用输入x，其他参数都是被固定的\n",
    "redeffun = lambda x: negTotalLogLikelihood(x, dataBeijing,genTimeData,prevData,contactMatr,childSuscept,\n",
    "                                            totalPopulation,durExposed,numEstate,numIstate,dt,tStart,tEnd,dateChange,pdfIncubation)"
   ]
  },
  {
   "cell_type": "code",
   "execution_count": null,
   "metadata": {},
   "outputs": [],
   "source": [
    "# mcmc 优化好的参数\n",
    "xfmin = [0.0237, 0.1065, 4.6000, 995.1762, 0.2687, 0.8165]\n",
    "mcSteps = 20000\n",
    "stepSize = [0.0002, 0.0003, 0, 37.9000, 0.0204, 0.0105]"
   ]
  },
  {
   "cell_type": "code",
   "execution_count": null,
   "metadata": {},
   "outputs": [],
   "source": [
    "def calcMCMCTotalLogLikelihood(x0,dataBeijing,genTimeData,prevData,\n",
    "                contactMatr,childSuscept,totalPopulation,durExposed,\n",
    "                numEstate,numIstate,dt,tStart,tEnd,dateChange,pdfIncubation):\n",
    "\n",
    "    scaleRt = x0[:2]\n",
    "    genTime = x0[2]\n",
    "    seedSize = x0[3]\n",
    "    propReport = x0[4]\n",
    "    propAscertain = x0[5]\n",
    "\n",
    "    totalLogL = totalLogLikelihood(dataBeijing,genTimeData,prevData,\n",
    "                scaleRt,genTime,seedSize,propReport,propAscertain,\n",
    "                contactMatr,childSuscept,totalPopulation,durExposed,\n",
    "                numEstate,numIstate,dt,tStart,tEnd,dateChange,pdfIncubation)\n",
    "\n",
    "    out = totalLogL\n",
    "    return out"
   ]
  },
  {
   "cell_type": "code",
   "execution_count": null,
   "metadata": {},
   "outputs": [],
   "source": [
    "def mcmcProposal(parameters_c,parameterSteps,lowerRange,upperRange):\n",
    "\n",
    "    parameters_new = -999*np.ones(len(parameters_c))\n",
    "    while (parameters_new < lowerRange).any() or (parameters_new > upperRange).any():\n",
    "        parameters_new = parameters_c + parameterSteps * (np.random.rand(len(parameters_c)) - 0.5) * 2\n",
    "        parameters_new[parameters_new < lowerRange] = lowerRange[parameters_new < lowerRange] + (lowerRange[parameters_new < lowerRange] - parameters_new[parameters_new < lowerRange])\n",
    "        parameters_new[parameters_new > upperRange] = upperRange[parameters_new>upperRange] + (parameters_new[parameters_new>upperRange] - upperRange[parameters_new>upperRange])\n",
    "\n",
    "    return parameters_new"
   ]
  },
  {
   "cell_type": "code",
   "execution_count": null,
   "metadata": {},
   "outputs": [],
   "source": [
    "def mcmcParallel(countryText,mcSteps,dataBeijing,genTimeData,prevData,\n",
    "                contactMatr,childSuscept,totalPopulation,durExposed,\n",
    "                numEstate,numIstate,dt,tStart,tEnd,dateChange,pdfIncubation,\n",
    "                parameters,parameterSteps,lowerLimit,upperLimit):\n",
    "\n",
    "    goodMC = False\n",
    "    pAccept = 0.5*np.ones(len(parameters))\n",
    "    numWhileLoop = 0\n",
    "    numPars = len(parameters)\n",
    "\n",
    "    while goodMC == False:\n",
    "        numWhileLoop = numWhileLoop+1\n",
    "        iPar = np.zeros((mcSteps,numPars))\n",
    "        iiLogL = np.zeros((mcSteps,1))\n",
    "        nAccept = np.zeros(numPars)\n",
    "\n",
    "        for i, pA in enumerate(pAccept):\n",
    "            if pA > 0.7:\n",
    "                parameterSteps[i] = parameterSteps[i] * 1.2\n",
    "            elif pA < 0.3:\n",
    "                parameterSteps[i] = parameterSteps[i] / 1.25\n",
    "\n",
    "        parameterSteps = np.column_stack((parameterSteps, upperLimit-lowerLimit)).min(axis=1)\n",
    "\n",
    "        # % Current loglikelihood\n",
    "        parameters_c = parameters.copy() # xflim\n",
    "        logLikelihood = calcMCMCTotalLogLikelihood(parameters_c,dataBeijing,genTimeData,prevData,\n",
    "                            contactMatr,childSuscept,totalPopulation,durExposed,\n",
    "                            numEstate,numIstate,dt,tStart,tEnd,dateChange,pdfIncubation)\n",
    "\n",
    "        for tt in range(mcSteps):\n",
    "            tempNew = mcmcProposal(parameters_c,parameterSteps,lowerLimit,upperLimit)\n",
    "            for ii in range(numPars):\n",
    "                parameters_mc = parameters_c.copy()\n",
    "                parameters_mc[ii] = tempNew[ii]\n",
    "                logLikelihood_new = calcMCMCTotalLogLikelihood(parameters_mc,dataBeijing,\n",
    "                                        genTimeData,prevData,contactMatr,childSuscept,totalPopulation,durExposed,\n",
    "                                        numEstate,numIstate,dt,tStart,tEnd,dateChange,pdfIncubation)\n",
    "                alpha = min(1, np.exp(logLikelihood_new-logLikelihood))\n",
    "                uu = np.random.rand(1)[0]\n",
    "                if uu <= alpha:\n",
    "                    parameters_c = parameters_mc.copy()\n",
    "                    logLikelihood = logLikelihood_new.copy()\n",
    "                    nAccept[ii] = nAccept[ii] + 1\n",
    "            \n",
    "            iiLogL[tt, :] = logLikelihood\n",
    "            iPar[tt, :] = parameters_c\n",
    "\n",
    "            \n",
    "            # % Check MCMC\n",
    "            if tt % (mcSteps/100) == 0: # 求余数\n",
    "                pAccept = nAccept / tt\n",
    "                # write_matrix_new(parameterSteps,strcat('mcmc_result/',countryText,'_parameter_step.csv'),'w',',','dec');\n",
    "                # write_matrix_new(iPar,strcat('mcmc_result/',countryText,'_mcmc_res.csv'),'w',',','dec');\n",
    "                # write_matrix_new(iiLogL,strcat('mcmc_result/',countryText,'_log_likelihood.csv'),'w',',','dec');\n",
    "                print('MCMC {}'.format(tt/mcSteps))\n",
    "                print('Acceptance probability {}'.format(pAccept))\n",
    "                if (pAccept > 0.7).any() or (pAccept < 0.3).any():\n",
    "                    goodMC = False\n",
    "                    if numWhileLoop < 20:\n",
    "                        if tt/mcSteps >= 0.02:\n",
    "                            break\n",
    "                            # % goodMC = true;\n",
    "                    else:\n",
    "                        goodMC = True\n",
    "                else:\n",
    "                    goodMC = True\n",
    "    return [iPar, iiLogL]"
   ]
  },
  {
   "cell_type": "code",
   "execution_count": null,
   "metadata": {},
   "outputs": [],
   "source": [
    "xfmin"
   ]
  },
  {
   "cell_type": "code",
   "execution_count": null,
   "metadata": {},
   "outputs": [],
   "source": [
    "out = mcmcParallel(countryText,mcSteps,dataBeijing,genTimeData,prevData,contactMatr,childSuscept,\n",
    "                totalPopulation,durExposed,numEstate,numIstate,dt,tStart,tEnd,dateChange,pdfIncubation,\n",
    "                xfmin,stepSize,x0LowerBound,x0UpperBound)"
   ]
  },
  {
   "cell_type": "code",
   "execution_count": null,
   "metadata": {},
   "outputs": [],
   "source": []
  },
  {
   "cell_type": "code",
   "execution_count": null,
   "metadata": {},
   "outputs": [],
   "source": []
  },
  {
   "cell_type": "code",
   "execution_count": null,
   "metadata": {},
   "outputs": [],
   "source": []
  },
  {
   "cell_type": "code",
   "execution_count": null,
   "metadata": {},
   "outputs": [],
   "source": []
  },
  {
   "cell_type": "code",
   "execution_count": null,
   "metadata": {},
   "outputs": [],
   "source": []
  },
  {
   "cell_type": "code",
   "execution_count": null,
   "metadata": {},
   "outputs": [],
   "source": [
    "# from scipy.optimize import fmin_slsqp\n",
    "\n",
    "# #定义目标函数\n",
    "# def objective_func(x):\n",
    "#     return redeffun(x)\n",
    "\n",
    "# #定义约束条件\n",
    "# def constraint_func(x):\n",
    "#     return x[0] + x[1] - 1\n",
    "\n",
    "# #设置约束条件为等式约束\n",
    "# eq_constraints = [{'type': 'eq', 'fun': constraint_func}]\n",
    "\n",
    "# #初始点\n",
    "# # x0 = [0, 0]\n",
    "\n",
    "# #边界条件\n",
    "# bounds = [(l, u) for l, u in zip(x0LowerBound, x0UpperBound)]\n",
    "\n",
    "# #调用函数\n",
    "# x_opt = fmin_slsqp(objective_func, xlim, bounds=bounds)\n",
    "\n",
    "# print(x_opt)"
   ]
  },
  {
   "cell_type": "code",
   "execution_count": null,
   "metadata": {},
   "outputs": [],
   "source": [
    "# from scipy.optimize import minimize\n",
    "\n",
    "# def objective(x):\n",
    "#     return redeffun(x)\n",
    "\n",
    "# def callback(x):\n",
    "#     print(\"y:{}\".format(objective(x))) # 打印目标函数的值\n",
    "\n",
    "# x0bounds = [(l, u) for l, u in zip(x0LowerBound, x0UpperBound)]\n",
    "# options = {'maxiter': 1000, 'disp': True} # 设置最大迭代次数为100\n",
    "# res = minimize(objective, xlim, bounds=x0bounds, method=\"SLSQP\", options=options, callback=callback)"
   ]
  },
  {
   "cell_type": "code",
   "execution_count": null,
   "metadata": {},
   "outputs": [],
   "source": [
    "# ! pip install scikit-opt"
   ]
  },
  {
   "cell_type": "code",
   "execution_count": null,
   "metadata": {},
   "outputs": [],
   "source": [
    "# from scipy.optimize import differential_evolution\n",
    "\n",
    "# def callback_func(x, convergence=0.5):\n",
    "#     print(x, convergence)\n",
    "\n",
    "# res = differential_evolution(objective_func, x0bounds, maxiter=10,seed=0, callback=callback_func)"
   ]
  },
  {
   "cell_type": "code",
   "execution_count": null,
   "metadata": {},
   "outputs": [],
   "source": []
  },
  {
   "cell_type": "code",
   "execution_count": null,
   "metadata": {},
   "outputs": [],
   "source": []
  },
  {
   "cell_type": "code",
   "execution_count": null,
   "metadata": {},
   "outputs": [],
   "source": []
  },
  {
   "cell_type": "code",
   "execution_count": null,
   "metadata": {},
   "outputs": [],
   "source": []
  },
  {
   "cell_type": "code",
   "execution_count": null,
   "metadata": {},
   "outputs": [],
   "source": []
  },
  {
   "cell_type": "code",
   "execution_count": null,
   "metadata": {},
   "outputs": [],
   "source": []
  },
  {
   "cell_type": "code",
   "execution_count": null,
   "metadata": {},
   "outputs": [],
   "source": []
  },
  {
   "cell_type": "code",
   "execution_count": null,
   "metadata": {},
   "outputs": [],
   "source": []
  },
  {
   "cell_type": "code",
   "execution_count": null,
   "metadata": {},
   "outputs": [],
   "source": []
  },
  {
   "cell_type": "code",
   "execution_count": null,
   "metadata": {},
   "outputs": [],
   "source": []
  },
  {
   "cell_type": "code",
   "execution_count": null,
   "metadata": {},
   "outputs": [],
   "source": []
  },
  {
   "cell_type": "code",
   "execution_count": null,
   "metadata": {},
   "outputs": [],
   "source": []
  },
  {
   "cell_type": "code",
   "execution_count": null,
   "metadata": {},
   "outputs": [],
   "source": []
  },
  {
   "cell_type": "code",
   "execution_count": null,
   "metadata": {},
   "outputs": [],
   "source": []
  },
  {
   "cell_type": "code",
   "execution_count": null,
   "metadata": {},
   "outputs": [],
   "source": []
  },
  {
   "cell_type": "code",
   "execution_count": null,
   "metadata": {},
   "outputs": [],
   "source": []
  },
  {
   "cell_type": "code",
   "execution_count": null,
   "metadata": {},
   "outputs": [],
   "source": []
  },
  {
   "cell_type": "code",
   "execution_count": null,
   "metadata": {},
   "outputs": [],
   "source": []
  },
  {
   "cell_type": "code",
   "execution_count": null,
   "metadata": {},
   "outputs": [],
   "source": []
  },
  {
   "cell_type": "code",
   "execution_count": null,
   "metadata": {},
   "outputs": [],
   "source": []
  },
  {
   "cell_type": "code",
   "execution_count": null,
   "metadata": {},
   "outputs": [],
   "source": []
  },
  {
   "cell_type": "code",
   "execution_count": null,
   "metadata": {},
   "outputs": [],
   "source": []
  },
  {
   "cell_type": "code",
   "execution_count": null,
   "metadata": {},
   "outputs": [],
   "source": []
  },
  {
   "cell_type": "code",
   "execution_count": null,
   "metadata": {},
   "outputs": [],
   "source": []
  },
  {
   "cell_type": "code",
   "execution_count": null,
   "metadata": {},
   "outputs": [],
   "source": []
  },
  {
   "cell_type": "code",
   "execution_count": null,
   "metadata": {},
   "outputs": [],
   "source": []
  },
  {
   "cell_type": "code",
   "execution_count": null,
   "metadata": {},
   "outputs": [],
   "source": []
  },
  {
   "cell_type": "code",
   "execution_count": null,
   "metadata": {},
   "outputs": [],
   "source": []
  }
 ],
 "metadata": {
  "kernelspec": {
   "display_name": "base",
   "language": "python",
   "name": "python3"
  },
  "language_info": {
   "codemirror_mode": {
    "name": "ipython",
    "version": 3
   },
   "file_extension": ".py",
   "mimetype": "text/x-python",
   "name": "python",
   "nbconvert_exporter": "python",
   "pygments_lexer": "ipython3",
   "version": "3.9.15"
  },
  "orig_nbformat": 4,
  "vscode": {
   "interpreter": {
    "hash": "7df2baa181da899635192d5d445c476747407b5d687aaae6b352d6ea6c188339"
   }
  }
 },
 "nbformat": 4,
 "nbformat_minor": 2
}
